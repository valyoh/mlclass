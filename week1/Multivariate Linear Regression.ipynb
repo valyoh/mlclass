{
 "cells": [
  {
   "cell_type": "markdown",
   "metadata": {},
   "source": [
    "# Линейна регресия на много променливи\n",
    "\n",
    "На предишният ThinkFriday разгледахме линейна регресия на една променлива. Също така генерализирахме формулата за хипотезата на линейна регсия, така че да работи с множество атрибути. За домашно имахме да имплементираме линейна регресия на много променливи, като за обучаващи данни трябваше да използваме данните от файл houseprices2.txt\n",
    "Сега нака да разгледаме решението на домашното."
   ]
  },
  {
   "cell_type": "code",
   "execution_count": 44,
   "metadata": {},
   "outputs": [],
   "source": [
    "# обичайните заподозрени \n",
    "# с тези импорти започваме почти всеки ноутбук\n",
    "import os  \n",
    "import numpy as np  \n",
    "import pandas as pd  \n",
    "import matplotlib.pyplot as plt  \n",
    "%matplotlib inline"
   ]
  },
  {
   "cell_type": "markdown",
   "metadata": {},
   "source": [
    "Нека първо да заредим данните. Правим това с помоща на библиотеката pandas и функция read_csv(). Файлът с данни не съдържа заглавен ред и затова ръчно задаваме етикети на колоните - размер, брой стаи и цена. Заредените по този начин данните се съхраняват в обект - dataframe. С извикване на функцията head() можем да видим първите няколко реда от данните."
   ]
  },
  {
   "cell_type": "code",
   "execution_count": 45,
   "metadata": {},
   "outputs": [
    {
     "data": {
      "text/html": [
       "<div>\n",
       "<style scoped>\n",
       "    .dataframe tbody tr th:only-of-type {\n",
       "        vertical-align: middle;\n",
       "    }\n",
       "\n",
       "    .dataframe tbody tr th {\n",
       "        vertical-align: top;\n",
       "    }\n",
       "\n",
       "    .dataframe thead th {\n",
       "        text-align: right;\n",
       "    }\n",
       "</style>\n",
       "<table border=\"1\" class=\"dataframe\">\n",
       "  <thead>\n",
       "    <tr style=\"text-align: right;\">\n",
       "      <th></th>\n",
       "      <th>Size</th>\n",
       "      <th>Rooms</th>\n",
       "      <th>Price</th>\n",
       "    </tr>\n",
       "  </thead>\n",
       "  <tbody>\n",
       "    <tr>\n",
       "      <th>0</th>\n",
       "      <td>2104</td>\n",
       "      <td>3</td>\n",
       "      <td>399900</td>\n",
       "    </tr>\n",
       "    <tr>\n",
       "      <th>1</th>\n",
       "      <td>1600</td>\n",
       "      <td>3</td>\n",
       "      <td>329900</td>\n",
       "    </tr>\n",
       "    <tr>\n",
       "      <th>2</th>\n",
       "      <td>2400</td>\n",
       "      <td>3</td>\n",
       "      <td>369000</td>\n",
       "    </tr>\n",
       "    <tr>\n",
       "      <th>3</th>\n",
       "      <td>1416</td>\n",
       "      <td>2</td>\n",
       "      <td>232000</td>\n",
       "    </tr>\n",
       "    <tr>\n",
       "      <th>4</th>\n",
       "      <td>3000</td>\n",
       "      <td>4</td>\n",
       "      <td>539900</td>\n",
       "    </tr>\n",
       "  </tbody>\n",
       "</table>\n",
       "</div>"
      ],
      "text/plain": [
       "   Size  Rooms   Price\n",
       "0  2104      3  399900\n",
       "1  1600      3  329900\n",
       "2  2400      3  369000\n",
       "3  1416      2  232000\n",
       "4  3000      4  539900"
      ]
     },
     "execution_count": 45,
     "metadata": {},
     "output_type": "execute_result"
    }
   ],
   "source": [
    "path = os.getcwd() + '/houseprices2.txt'  \n",
    "df = pd.read_csv(path, header=None, names=['Size', 'Rooms', 'Price'])  \n",
    "df.head()  "
   ]
  },
  {
   "cell_type": "markdown",
   "metadata": {},
   "source": [
    "Друга полезна финцкия на pandas е describe(), която ни дава някои базови статистически данни за множеството. Това е полезно за да придобием представа с какви данни си имаме работа."
   ]
  },
  {
   "cell_type": "code",
   "execution_count": 46,
   "metadata": {},
   "outputs": [
    {
     "data": {
      "text/html": [
       "<div>\n",
       "<style scoped>\n",
       "    .dataframe tbody tr th:only-of-type {\n",
       "        vertical-align: middle;\n",
       "    }\n",
       "\n",
       "    .dataframe tbody tr th {\n",
       "        vertical-align: top;\n",
       "    }\n",
       "\n",
       "    .dataframe thead th {\n",
       "        text-align: right;\n",
       "    }\n",
       "</style>\n",
       "<table border=\"1\" class=\"dataframe\">\n",
       "  <thead>\n",
       "    <tr style=\"text-align: right;\">\n",
       "      <th></th>\n",
       "      <th>Size</th>\n",
       "      <th>Rooms</th>\n",
       "      <th>Price</th>\n",
       "    </tr>\n",
       "  </thead>\n",
       "  <tbody>\n",
       "    <tr>\n",
       "      <th>count</th>\n",
       "      <td>47.000000</td>\n",
       "      <td>47.000000</td>\n",
       "      <td>47.000000</td>\n",
       "    </tr>\n",
       "    <tr>\n",
       "      <th>mean</th>\n",
       "      <td>2000.680851</td>\n",
       "      <td>3.170213</td>\n",
       "      <td>340412.659574</td>\n",
       "    </tr>\n",
       "    <tr>\n",
       "      <th>std</th>\n",
       "      <td>794.702354</td>\n",
       "      <td>0.760982</td>\n",
       "      <td>125039.899586</td>\n",
       "    </tr>\n",
       "    <tr>\n",
       "      <th>min</th>\n",
       "      <td>852.000000</td>\n",
       "      <td>1.000000</td>\n",
       "      <td>169900.000000</td>\n",
       "    </tr>\n",
       "    <tr>\n",
       "      <th>25%</th>\n",
       "      <td>1432.000000</td>\n",
       "      <td>3.000000</td>\n",
       "      <td>249900.000000</td>\n",
       "    </tr>\n",
       "    <tr>\n",
       "      <th>50%</th>\n",
       "      <td>1888.000000</td>\n",
       "      <td>3.000000</td>\n",
       "      <td>299900.000000</td>\n",
       "    </tr>\n",
       "    <tr>\n",
       "      <th>75%</th>\n",
       "      <td>2269.000000</td>\n",
       "      <td>4.000000</td>\n",
       "      <td>384450.000000</td>\n",
       "    </tr>\n",
       "    <tr>\n",
       "      <th>max</th>\n",
       "      <td>4478.000000</td>\n",
       "      <td>5.000000</td>\n",
       "      <td>699900.000000</td>\n",
       "    </tr>\n",
       "  </tbody>\n",
       "</table>\n",
       "</div>"
      ],
      "text/plain": [
       "              Size      Rooms          Price\n",
       "count    47.000000  47.000000      47.000000\n",
       "mean   2000.680851   3.170213  340412.659574\n",
       "std     794.702354   0.760982  125039.899586\n",
       "min     852.000000   1.000000  169900.000000\n",
       "25%    1432.000000   3.000000  249900.000000\n",
       "50%    1888.000000   3.000000  299900.000000\n",
       "75%    2269.000000   4.000000  384450.000000\n",
       "max    4478.000000   5.000000  699900.000000"
      ]
     },
     "execution_count": 46,
     "metadata": {},
     "output_type": "execute_result"
    }
   ],
   "source": [
    "df.describe()"
   ]
  },
  {
   "cell_type": "markdown",
   "metadata": {},
   "source": [
    "Обърнете внимание че стойностите в различните колони са в много различен порядък. Броят на стаите е $10^1$. Размерът е в порядък $10^3$, а цената e в порядък $10^5$. Ако приложим линейна регресия върху тези данни директно приносът на \"размер\" ще бъде непропрционално голям спрямо \"брой стаи\". За да решим този проблем правим нормализация да данните. Тоест искаме всички данни да бъдат в една и съща скала. Обикновенно нормализацията се прави като от всяка стойност на даден атрибут се извади средната стойност за атрибута и след това получената стойност се раздели на стандартното отклонение. Формулата е написана по-долу.\n",
    "\n",
    "$$x'= \\frac {x - \\bar{x}}{\\sigma}$$ \n",
    "\n",
    "Използвайки pandas това се прави на един ред."
   ]
  },
  {
   "cell_type": "code",
   "execution_count": 47,
   "metadata": {},
   "outputs": [
    {
     "data": {
      "text/html": [
       "<div>\n",
       "<style scoped>\n",
       "    .dataframe tbody tr th:only-of-type {\n",
       "        vertical-align: middle;\n",
       "    }\n",
       "\n",
       "    .dataframe tbody tr th {\n",
       "        vertical-align: top;\n",
       "    }\n",
       "\n",
       "    .dataframe thead th {\n",
       "        text-align: right;\n",
       "    }\n",
       "</style>\n",
       "<table border=\"1\" class=\"dataframe\">\n",
       "  <thead>\n",
       "    <tr style=\"text-align: right;\">\n",
       "      <th></th>\n",
       "      <th>Size</th>\n",
       "      <th>Rooms</th>\n",
       "      <th>Price</th>\n",
       "    </tr>\n",
       "  </thead>\n",
       "  <tbody>\n",
       "    <tr>\n",
       "      <th>0</th>\n",
       "      <td>0.028494</td>\n",
       "      <td>-0.042553</td>\n",
       "      <td>0.112240</td>\n",
       "    </tr>\n",
       "    <tr>\n",
       "      <th>1</th>\n",
       "      <td>-0.110502</td>\n",
       "      <td>-0.042553</td>\n",
       "      <td>-0.019835</td>\n",
       "    </tr>\n",
       "    <tr>\n",
       "      <th>2</th>\n",
       "      <td>0.110127</td>\n",
       "      <td>-0.042553</td>\n",
       "      <td>0.053938</td>\n",
       "    </tr>\n",
       "    <tr>\n",
       "      <th>3</th>\n",
       "      <td>-0.161247</td>\n",
       "      <td>-0.292553</td>\n",
       "      <td>-0.204552</td>\n",
       "    </tr>\n",
       "    <tr>\n",
       "      <th>4</th>\n",
       "      <td>0.275598</td>\n",
       "      <td>0.207447</td>\n",
       "      <td>0.376391</td>\n",
       "    </tr>\n",
       "  </tbody>\n",
       "</table>\n",
       "</div>"
      ],
      "text/plain": [
       "       Size     Rooms     Price\n",
       "0  0.028494 -0.042553  0.112240\n",
       "1 -0.110502 -0.042553 -0.019835\n",
       "2  0.110127 -0.042553  0.053938\n",
       "3 -0.161247 -0.292553 -0.204552\n",
       "4  0.275598  0.207447  0.376391"
      ]
     },
     "execution_count": 47,
     "metadata": {},
     "output_type": "execute_result"
    }
   ],
   "source": [
    "histData = df.copy(deep=True)\n",
    "\n",
    "#df = (df - df.mean()) / df.std()  \n",
    "df = (df - df.mean()) / (df.max() - df.min())  \n",
    "df.head()  "
   ]
  },
  {
   "cell_type": "markdown",
   "metadata": {},
   "source": [
    "След това трябва да модифицираме имплементацията на линейната регресия, така че да работи с множество независими променливи. Нека да видм кода на градиентното спускане."
   ]
  },
  {
   "cell_type": "code",
   "execution_count": 48,
   "metadata": {},
   "outputs": [],
   "source": [
    "\n",
    "def compute_cost(X, y, theta):  \n",
    "    inner = np.power(((X * theta.T) - y), 2)\n",
    "    return np.sum(inner) / (2 * len(X))\n",
    "\n",
    "def gradient_descent(X, y, theta, alpha, num_iters):  \n",
    "    temp = np.matrix(np.zeros(theta.shape))\n",
    "    parameters = int(theta.ravel().shape[1])\n",
    "    cost = np.zeros(num_iters)\n",
    "\n",
    "    for i in range(num_iters):\n",
    "        error = (X * theta.T) - y\n",
    "\n",
    "        for j in range(parameters):\n",
    "            term = np.multiply(error, X[:,j])\n",
    "            temp[0,j] = theta[0,j] - ((alpha / len(X)) * np.sum(term))\n",
    "\n",
    "        theta = temp\n",
    "        cost[i] = compute_cost(X, y, theta)\n",
    "\n",
    "    return theta, cost"
   ]
  },
  {
   "cell_type": "markdown",
   "metadata": {},
   "source": [
    "Нека да разгледаме кода изчисляващ грешката - това е имплементирано във функцията compute_cost. Тук използваме умножение на матрици макар това да не e очевидно на пръв поглед. Този код ще работи коректно без значение колко променливи (колони) има X, стига броят на параметрите за theta да бъде същият, като броят на променливите в X.\n",
    "\n",
    "Ценовата функция от предишната лекция може да бъде използвана директо. Тук обаче сме я пренаписали, като изпозваме матрично умножение от пакета numpy. Това е така наречената векторизирана имплементация. Тази имплементация е изключеително бърза тък като numpy е високо оптимизиран пакет за линейна алгебра.\n",
    "\n",
    "Нака да проверим какво сме направили. Първо трябва да инициализираме няколко матрици, които да подаваме на нашите функции."
   ]
  },
  {
   "cell_type": "code",
   "execution_count": 49,
   "metadata": {},
   "outputs": [],
   "source": [
    "# добявме една нова колона с единници\n",
    "# това е изкуственият параметър x0\n",
    "df.insert(0, 'Ones', 1)\n",
    "\n",
    "# сетваме X (обучаващите данни) и y (целевата променлива)\n",
    "cols = df.shape[1]  \n",
    "X = df.iloc[:,0:cols-1]  \n",
    "y = df.iloc[:,cols-1:cols]\n",
    "\n",
    "# конвертираме стойностите в numpy матрици и инициализираме theta\n",
    "X = np.matrix(X.values)  \n",
    "y = np.matrix(y.values)  \n",
    "theta = np.matrix(np.array([0,0,0]))  "
   ]
  },
  {
   "cell_type": "markdown",
   "metadata": {},
   "source": [
    "Сега вече може да приложим линейната регресия."
   ]
  },
  {
   "cell_type": "code",
   "execution_count": 50,
   "metadata": {},
   "outputs": [
    {
     "data": {
      "text/plain": [
       "0.0072740479559596288"
      ]
     },
     "execution_count": 50,
     "metadata": {},
     "output_type": "execute_result"
    }
   ],
   "source": [
    "# инициализираме променливи за скоростта на обучение и броят итерации\n",
    "alpha = 0.5  \n",
    "num_iters = 1000\n",
    "\n",
    "# прилагаме градиентното спускане за множеството\n",
    "g, cost = gradient_descent(X, y, theta, alpha, num_iters)\n",
    "\n",
    "# изчисляваме грешката на модела\n",
    "compute_cost(X, y, g) "
   ]
  },
  {
   "cell_type": "markdown",
   "metadata": {},
   "source": [
    "Сега можем да отпечатаме грешката като функция на броя итерации, за да се уверим, че грешката в действителност намалява в процеса на обучение на нашият модел."
   ]
  },
  {
   "cell_type": "code",
   "execution_count": 51,
   "metadata": {},
   "outputs": [
    {
     "data": {
      "image/png": "[encoded data removed]",
      "text/plain": [
       "<matplotlib.figure.Figure at 0x7f3f9ed0b8d0>"
      ]
     },
     "metadata": {},
     "output_type": "display_data"
    }
   ],
   "source": [
    "fig, ax = plt.subplots(figsize=(10,6))  \n",
    "ax.plot(np.arange(num_iters), cost, 'r')  \n",
    "ax.set_xlabel('Iterations')  \n",
    "ax.set_ylabel('Error')  \n",
    "ax.set_title('Error vs. Iterations')  \n",
    "plt.show()"
   ]
  },
  {
   "cell_type": "markdown",
   "metadata": {},
   "source": [
    "Накрая визуализираме нашето предвиждане за цената на апартаментита, базирано на двете променливи - размер на жилището и брой стаи."
   ]
  },
  {
   "cell_type": "code",
   "execution_count": 52,
   "metadata": {},
   "outputs": [
    {
     "data": {
      "image/png": "[encoded data removed]",
      "text/plain": [
       "<matplotlib.figure.Figure at 0x7f3f9ee2b3d0>"
      ]
     },
     "metadata": {},
     "output_type": "display_data"
    }
   ],
   "source": [
    "x = np.linspace(df.Size.min(), df.Size.max(), 100)  \n",
    "y = np.linspace(df.Rooms.min(), df.Rooms.max(), 100)  \n",
    "f = g[0, 0] + (g[0, 1] * x) + (g[0, 2] * y)\n",
    "\n",
    "import matplotlib.pyplot as plt\n",
    "from mpl_toolkits.mplot3d import Axes3D\n",
    "fig = plt.figure()\n",
    "ax = fig.add_subplot(111, projection='3d')\n",
    "ax.plot(x, y, f, 'r')  \n",
    "ax.scatter(df.Size, df.Rooms, df.Price) \n",
    "ax.set_xlabel('Size')\n",
    "ax.set_ylabel('Rooms')\n",
    "ax.set_zlabel('Price Predict')\n",
    "plt.show()"
   ]
  },
  {
   "cell_type": "markdown",
   "metadata": {},
   "source": [
    "Когато правим предвиждания с нормализирани данни след като направим нашето предсказание е добре да извършим денормализация, така че да виждаме говорещи стойности за целевата променлива."
   ]
  },
  {
   "cell_type": "code",
   "execution_count": 53,
   "metadata": {},
   "outputs": [
    {
     "name": "stdout",
     "output_type": "stream",
     "text": [
      "1825.1970613\n"
     ]
    }
   ],
   "source": [
    "def denormalize(x, std, mean):\n",
    "    return x * std + mean\n",
    "\n",
    "dn = denormalize(-0.220817, 794.702354, 2000.680851)\n",
    "\n",
    "print(dn)\n",
    "\n",
    "xs = df.Size * histData.Size.std() + histData.Size.mean()\n",
    "ys = df.Rooms * histData.Rooms.std() + histData.Rooms.mean() \n",
    "zs = df.Price * histData.Price.std() + histData.Price.mean()"
   ]
  }
 ],
 "metadata": {
  "kernelspec": {
   "display_name": "Python [conda root]",
   "language": "python",
   "name": "conda-root-py"
  },
  "language_info": {
   "codemirror_mode": {
    "name": "ipython",
    "version": 2
   },
   "file_extension": ".py",
   "mimetype": "text/x-python",
   "name": "python",
   "nbconvert_exporter": "python",
   "pygments_lexer": "ipython2",
   "version": "2.7.14"
  }
 },
 "nbformat": 4,
 "nbformat_minor": 2
}
