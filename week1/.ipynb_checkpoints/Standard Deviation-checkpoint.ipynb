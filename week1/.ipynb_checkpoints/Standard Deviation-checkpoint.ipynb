{
 "cells": [
  {
   "cell_type": "markdown",
   "metadata": {},
   "source": [
    "# Standard deviation and variance"
   ]
  },
  {
   "cell_type": "markdown",
   "metadata": {},
   "source": [
    "Стандартното отклонение измерва разпръснатостта на данните\n",
    "\n",
    "Ниска стойност на стандартното отклонение означава, че стойностите на извадката са групирани около средното, не се отклоняват много от средното.\n",
    "\n",
    "Висока стойност на стандарнното отклонение означава, че дананните са разпруснати в по-голям интервал от стойности.\n",
    "\n",
    "Стнадартното отклонение се отбелязва с буквата $\\sigma$ и се изчислява по следният начин при зададено множество от данни $D = (x_1, x_2, ..., x_n)$\n",
    "\n",
    "1. Изчисляваме средно аритметично на извадката - отбелязваме го с $\\bar{x}$\n",
    "2. Изваждаме средното $\\bar{x}$ от всяка една точка $x$ на извадката и го повдигаме на квадрат\n",
    "3. Изчисляваме средното (средно аритметично) на повдигнатите на квадрат разлики\n",
    "4. Вземаме квадратен корен от средното на подвигнатите на квадрат разлики\n",
    "\n",
    "Ако напишем горните стъпки с уравнение то изглежда така $\\sigma = \\sqrt{\\frac{\\sum(x-\\bar{x})^2}{n}}$\n",
    "\n",
    "Когато нямаме данни за цялата популация, а само за извадка се изпозлва следната формула $\\sigma = \\sqrt{\\frac{\\sum(x-\\bar{x})^2}{n-1}}$\n",
    "\n",
    "При нормално разпределение 68% от данните попадат на едно стандартно отклонение от средното.\n",
    "\n",
    "Да разгледаме няколко примера за да разберем стандартното отклонение още по-добре."
   ]
  },
  {
   "cell_type": "code",
   "execution_count": 35,
   "metadata": {},
   "outputs": [
    {
     "name": "stdout",
     "output_type": "stream",
     "text": [
      "Mean of A is 10\n",
      "Mean of B is 10\n",
      "Range of A is 40\n",
      "Range of B is 4\n",
      "Variance of A is 200\n",
      "Variance of B is 2\n",
      "Standard deviation of A is 14.142136\n",
      "Standard deviation of B is 1.414214\n"
     ]
    }
   ],
   "source": [
    "import numpy as np\n",
    "\n",
    "A = np.array([-10, 0, 10, 20, 30])\n",
    "B = np.array([8, 9, 10, 11, 12])\n",
    "\n",
    "mean_A = A.sum()/ A.size\n",
    "mean_B = B.sum()/ B.size\n",
    "\n",
    "print(\"Mean of A is %d\" % mean_A)\n",
    "print(\"Mean of B is %d\" % mean_B)\n",
    "\n",
    "range_A = A.max() - A.min()\n",
    "range_B = B.max() - B.min()\n",
    "\n",
    "print(\"Range of A is %d\" % range_A)\n",
    "print(\"Range of B is %d\" % range_B)\n",
    "\n",
    "variance_A = ((A - mean_A)**2).sum() / A.size\n",
    "variance_B = ((B - mean_B)**2).sum() / B.size\n",
    "print(\"Variance of A is %d\" % variance_A)\n",
    "print(\"Variance of B is %d\" % variance_B)\n",
    "\n",
    "std_A = np.sqrt(variance_A)\n",
    "std_B = np.sqrt(variance_B)\n",
    "print(\"Standard deviation of A is %f\" % std_A)\n",
    "print(\"Standard deviation of B is %f\" % std_B)"
   ]
  },
  {
   "cell_type": "markdown",
   "metadata": {},
   "source": [
    "Както виждаме средното и на двете множества е 10, но за $B$ всички числа са много\n",
    "близко до средното 10 - те са на разстояние най-много 2, докато при $A$ разсоянието е доста по-голямо. За множеството $B$ казваме, че е по разпръснато от $A$.\n",
    "\n",
    "Дисперсията на множеството за $A$ и $B$ лесно се вижда като се изчисли обхвата $Range = \\max{X} - \\min{X}$\n",
    "Но за други множества от стойности това не ни дава достатъчно информация за това как са разпределени стойностите.\n",
    "За да получим повече информация можем да изчислим диспердията - на английски variance\n",
    "${\\sigma}^2 = \\frac{\\sum(x-\\bar{x})^2}{n}$"
   ]
  }
 ],
 "metadata": {
  "kernelspec": {
   "display_name": "Python [conda root]",
   "language": "python",
   "name": "conda-root-py"
  },
  "language_info": {
   "codemirror_mode": {
    "name": "ipython",
    "version": 2
   },
   "file_extension": ".py",
   "mimetype": "text/x-python",
   "name": "python",
   "nbconvert_exporter": "python",
   "pygments_lexer": "ipython2",
   "version": "2.7.14"
  }
 },
 "nbformat": 4,
 "nbformat_minor": 2
}
