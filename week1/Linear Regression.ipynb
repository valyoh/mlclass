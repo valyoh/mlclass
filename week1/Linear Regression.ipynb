{
 "cells": [
  {
   "cell_type": "markdown",
   "metadata": {},
   "source": [
    "# Линейна регресия"
   ]
  },
  {
   "cell_type": "markdown",
   "metadata": {
    "nbpresent": {
     "id": "049af263-2563-4a81-a91f-0c14b1e3efa3"
    }
   },
   "source": [
    "В тази глава ще научим какво представлява линейната регресия и ще видим как работи тя като метод за машинно самообучение с помоща на ценовата функция и алгоритъмът за градиентно спускане.\n",
    "\n",
    "Линейната регресия преставлява метод за построяване на връзка между множество от независими променливи $x_1, x_2, ..., x_n$ и зависима променлива $y$. Използвайки линейна регресия с една независима променлива ще построим прост предсказващ модел. Предположението, което правим е, че връзката между зависимата и независимата променлива е линейна.\n",
    "\n",
    "Таблицата по-долу съдържа записи за наеми на имоти, заедно с някои техни параметри, като **размер**, **етаж** и **енергиен клас**. Параметрите на жилището са независимите променливи, а **наем** е зависима променлива, която искаме да предвидим. Тъй като разглеждаме линейна регресия с една променлива, като независима променлива за нашият модел ще изпозваме **размер**.\n",
    "\n"
   ]
  },
  {
   "cell_type": "markdown",
   "metadata": {
    "nbpresent": {
     "id": "a9796cb9-e482-4b4d-a209-13e63e57cdcf"
    }
   },
   "source": [
    "| Размер (кв. м.) | Етаж | Енергиен клас | Наем |\n",
    "| :-----|-----|-----|-----|\n",
    "| 500 | 4 | C | 320 |\n",
    "| 550 | 7 | A | 380 |\n",
    "| 620 | 9 | A | 400 |\n",
    "| 630 | 5 | B | 390 |\n",
    "| 665 | 8 | C | 385 |\n",
    "| 700 | 4 | B | 410 |\n",
    "| 770 | 10 | B | 480 |\n",
    "| 880 | 12 | A | 600 |\n",
    "| 920 | 14 | C | 570 |\n",
    "| 1000 | 9 | B | 620 |"
   ]
  },
  {
   "cell_type": "markdown",
   "metadata": {
    "nbpresent": {
     "id": "ee98b5b4-6409-446a-adb2-59ab9284a68f"
    }
   },
   "source": [
    "## Представяне на модела"
   ]
  },
  {
   "cell_type": "markdown",
   "metadata": {
    "nbpresent": {
     "id": "08e9d1e2-ea9a-42fe-90c0-cd90f50b10fe"
    }
   },
   "source": [
    "Терминологията използвана в машиното самообучение (**MC**) се различава от тази използвана в статистиката. Нека да въведем следните означения.\n",
    "Ще използваме $x^{(i)}$ за да означаваме \"входящата\" променлива и $y^{(i)}$ за \"изходящата\" или целевата променлива - тази, която се опитваме да предвидим. Двойка от вида $(x^{(i)},y^{(i)})$ наричаме обучаващ пример. Множеството, което съдъража списък от $m$ обучаващи примера $(x^{(i)},y^{(i)})$ където $i=1,...,m$ наричаме обучаващо множество. Интексът $(i)$ е номерът на реда в обучаващото множество и няма нищо общо със степенуването. Също така ще използваме $X$ за да означаваме множеството на входящите атрибути и $Y$ за множеството на целевите променливи, когато имаме повече входящи и изходящи параметри. \n",
    "\n",
    "Да опишем обучението с учител малко по-формално. Нашата цел е по зададено обучаващо множество да научим функция $h : X \\rightarrow Y$ така че тя да предвижда добре съответните стойности на **у**. Поради исторически причини тази функция се нарича хипотеза. Представено графично може да се види на картинката по долу.\n",
    "![ML Pipeline](../images/pipeline.png)\n",
    "Хипотезата за линейна регресия на една променлива има следният вид:\n",
    "$$h_\\theta(x^{(i)}) = \\theta_0 + \\theta_1x^{(i)}$$\n",
    "Когато целевата променлива която се опитваме да предвидим е непрекъсната имаме задача за регресия. Когато y може да приема множество от дискретни стойности имаме класификационна задача."
   ]
  },
  {
   "cell_type": "markdown",
   "metadata": {},
   "source": [
    "## Ценова функция"
   ]
  },
  {
   "cell_type": "markdown",
   "metadata": {
    "nbpresent": {
     "id": "b9abc4ce-06e2-4b47-ad13-2aa4ba112807"
    }
   },
   "source": [
    "Измерването на точността на хипотезата става чрез използването на ценова (оценяваща) функция. Тя взема средната разлика от всички резултати на хипотезата и реланият резултат $y$ от обучаващото множество.\n",
    "$$J(\\theta_0, \\theta_1) = \\dfrac {1}{2m} \\displaystyle \\sum _{i=1}^m \\left ( \\hat{y}^{(i)}- y^{(i)} \\right)^2 = \\dfrac {1}{2m} \\displaystyle \\sum _{i=1}^m \\left (h_\\theta (x^{(i)}) - y^{(i)} \\right)^2$$\n",
    "\n",
    "Формулата може да бъде записана и като, $J(\\theta_0, \\theta_1) = \\frac{1}{2} \\bar{x}$ където $\\bar{x}$ е средното от квадратите на $h_\\theta (x_{i}) - y_{i}$, или с други думи разликите между предсказаните стойности $\\hat{y}^{(i)}$ и дествителните стойности ${y}^{(i)}$.\n",
    "Тази функция се нарича средно квадратична грешка или MSE (Mean squared error). По конвенция се взема $\\dfrac {1}{2}$ от грешката за удобство при изчисляването на градиентното спускане, тъй като производната на MSE се съкращава с $\\dfrac {1}{2}$.\n",
    "\n",
    "След като имаме фунцкия, с която да оценим точността на нашата хипотеза следва да намерим най-добрата линия, която описва наличните данни. Тоест трябва да минимизираме функцията J. В следващата точка ще видим как правим това."
   ]
  },
  {
   "cell_type": "markdown",
   "metadata": {},
   "source": [
    "## Градиентно спускане"
   ]
  },
  {
   "cell_type": "markdown",
   "metadata": {},
   "source": [
    "Градиентното спускане е един от най-важните алгоритми в областа на МС. Неговата задача е да намери минимума на дадена функция.\n",
    "Схематично на високо ниво алгоритъмът изглежда така:\n",
    "\n",
    "1. инициализираме параметрите на функцията $\\theta_0, \\theta_1$ със случайни стойности (например нула)\n",
    "2. променяме стойностите на параметрите така че, стойността \n",
    "на функцията $J(\\theta_0, \\theta_1)$ да намалява докато достигнем до минимум\n",
    "\n",
    "С какви точно стойности променяме параметрите $\\theta_0,\\theta_1$ изчисляваме по следнта формула:\n",
    "\n",
    "$\\theta_j := \\theta_j - \\alpha \\frac{\\partial}{\\partial \\theta_j} J(\\theta_0, \\theta_1)$ където $j =0,1$ \n",
    "\n",
    "$\\alpha$ е константа, която наричаме скорост на обучение\n",
    "\n",
    "Важно е да се отбележе, че при имплементацията на алгоритъма параметрите трябва да бъдет обновени едновременно. Тоест:\n",
    "$$temp_0 := \\theta_0 - \\alpha \\frac{\\partial}{\\partial \\theta_0} J(\\theta_0, \\theta_1)$$\n",
    "$$temp_1 := \\theta_1 - \\alpha \\frac{\\partial}{\\partial \\theta_1} J(\\theta_0, \\theta_1)$$\n",
    "$$\\theta_0 := temp_0$$\n",
    "$$\\theta_1 := temp_1$$"
   ]
  },
  {
   "cell_type": "markdown",
   "metadata": {},
   "source": [
    "## Имплементация на алгоритъма"
   ]
  },
  {
   "cell_type": "code",
   "execution_count": 2,
   "metadata": {},
   "outputs": [],
   "source": [
    "%matplotlib inline\n",
    "\n",
    "import numpy as np\n",
    "import matplotlib.pyplot as plt"
   ]
  },
  {
   "cell_type": "code",
   "execution_count": 3,
   "metadata": {},
   "outputs": [],
   "source": [
    "\n",
    "\n",
    "#Evaluate the linear regression\n",
    "def compute_cost(X, y, theta):\n",
    "    '''\n",
    "    Comput cost for linear regression\n",
    "    '''\n",
    "    #Number of training samples\n",
    "    m = y.size\n",
    "\n",
    "    predictions = X.dot(theta).flatten()\n",
    "    sqErrors = (predictions - y) ** 2\n",
    "\n",
    "    J = (1.0 / (2 * m)) * sqErrors.sum()\n",
    "\n",
    "    return J\n",
    "\n",
    "# d[(y-(a*x+b))**2,b] = 2 (b + a x - y) = 2 (y_pred - y)\n",
    "# d[(y-(a*x+b))**2,a] = 2 x (b + a x - y) = x * dy/db\n",
    "\n",
    "def gradient_descent(X, y, theta, alpha, num_iters):\n",
    "    '''\n",
    "    Performs gradient descent to learn theta\n",
    "    by taking num_items gradient steps with learning\n",
    "    rate alpha\n",
    "    '''\n",
    "    m = y.size\n",
    "    J_history = np.zeros(shape=(num_iters, 1))\n",
    "\n",
    "    for i in range(num_iters):\n",
    "\n",
    "        predictions = X.dot(theta).flatten()\n",
    "\n",
    "        errors_x1 = (predictions - y) * X[:, 0]\n",
    "        errors_x2 = (predictions - y) * X[:, 1]\n",
    "\n",
    "        theta[0][0] = theta[0][0] - alpha * (1.0 / m) * errors_x1.sum()\n",
    "        theta[1][0] = theta[1][0] - alpha * (1.0 / m) * errors_x2.sum()\n",
    "\n",
    "        J_history[i, 0] = compute_cost(X, y, theta)\n",
    "\n",
    "    return theta, J_history"
   ]
  },
  {
   "cell_type": "code",
   "execution_count": 4,
   "metadata": {},
   "outputs": [
    {
     "name": "stdout",
     "output_type": "stream",
     "text": [
      "Initial cost: 0.108555\n",
      "[[ 0.00551614]\n",
      " [ 0.62169483]]\n",
      "For size if = 720 (sq. m), we predict a rent of 447.625791\n",
      "For size if = 810 (sq. m), we predict a rent of 503.578325\n"
     ]
    },
    {
     "data": {
      "image/png": "[encoded data removed]",
      "text/plain": [
       "<matplotlib.figure.Figure at 0x7f9eec862f90>"
      ]
     },
     "metadata": {},
     "output_type": "display_data"
    },
    {
     "data": {
      "image/png": "[encoded data removed]",
      "text/plain": [
       "<matplotlib.figure.Figure at 0x7f9ec2336ad0>"
      ]
     },
     "metadata": {},
     "output_type": "display_data"
    }
   ],
   "source": [
    "x = np.array([500.,550.,620.,630.,660.,700.,770.,880.,920.,1000.]) / 1000\n",
    "y = np.array([320.,380.,400.,390.,380.,410.,480.,600.,570.,620.]) / 1000\n",
    "\n",
    "#number of training samples\n",
    "m = y.size\n",
    "\n",
    "#Add a column of ones to X (interception data)\n",
    "it = np.ones(shape=(m, 2))\n",
    "it[:, 1] = x\n",
    "\n",
    "#Initialize theta parameters\n",
    "theta = np.zeros(shape=(2, 1))\n",
    "\n",
    "#Some gradient descent settings\n",
    "iterations = 1000\n",
    "alpha = 0.5\n",
    "\n",
    "#compute and display initial cost\n",
    "print(\"Initial cost: %f\" % compute_cost(it, y, theta))\n",
    "\n",
    "theta, J_history = gradient_descent(it, y, theta, alpha, iterations)\n",
    "\n",
    "print(theta)\n",
    "#Predict values for various apartments\n",
    "predict1 = np.array([1, 720.]).dot(theta).flatten()\n",
    "print('For size if = 720 (sq. m), we predict a rent of %f' % (predict1))\n",
    "predict2 = np.array([1, 810.]).dot(theta).flatten()\n",
    "print('For size if = 810 (sq. m), we predict a rent of %f' % (predict2))\n",
    "\n",
    "#Plot the results\n",
    "x = np.array([500.,550.,620.,630.,660.,700.,770.,880.,920.,1000.])\n",
    "y = np.array([320.,380.,400.,390.,380.,410.,480.,600.,570.,620.]) \n",
    "result = it.dot(theta).flatten() * 1000.\n",
    "\n",
    "plt.scatter(x,y)\n",
    "plt.plot(x, result, color='red')\n",
    "plt.xlabel(\"Size (sq. m)\")\n",
    "plt.ylabel(\"Rental Price (EUR)\")\n",
    "plt.title(\"Rental Price Linear Regression\")  \n",
    "plt.legend(['Prediction Line', 'Actual Example'])\n",
    "plt.show()\n",
    "\n",
    "plt.plot(J_history)\n",
    "plt.ylabel(\"Error\")\n",
    "plt.xlabel(\"Number of iterations\")\n",
    "plt.show()\n"
   ]
  },
  {
   "cell_type": "markdown",
   "metadata": {},
   "source": [
    "### Как да проверим какво сме направили"
   ]
  },
  {
   "cell_type": "code",
   "execution_count": 5,
   "metadata": {
    "ExecuteTime": {
     "end_time": "2018-01-18T07:56:40.888582Z",
     "start_time": "2018-01-18T07:56:40.789676Z"
    }
   },
   "outputs": [
    {
     "data": {
      "image/png": "[encoded data removed]",
      "text/plain": [
       "<matplotlib.figure.Figure at 0x7f9ecac996d0>"
      ]
     },
     "metadata": {},
     "output_type": "display_data"
    }
   ],
   "source": [
    "from sklearn import datasets, linear_model\n",
    "from sklearn.metrics import mean_squared_error\n",
    "\n",
    "x = np.array([500,550,620,630,665,700,770,880,920,1000])\n",
    "y = np.array([320,380,400,390,385,410,480,600,570,620])\n",
    "\n",
    "x = x.reshape(-1, 1)\n",
    "y = y.reshape(-1, 1)\n",
    "\n",
    "# Create linear regression object\n",
    "regr = linear_model.LinearRegression()\n",
    "\n",
    "# Train the model using the training sets\n",
    "regr.fit(x, y)\n",
    "y_pred = regr.predict(np.arange(500,1000).reshape(-1, 1))\n",
    "\n",
    "#fig, ax = plt.subplots()\n",
    "plt.scatter(x, y)\n",
    "plt.plot(np.arange(500,1000), y_pred, color='red', linewidth=1)\n",
    "\n",
    "#plt.set(xlabel='Size (sq. m)', ylabel='Rental Price (EUR)',title='Size vs Price')\n",
    "plt.xlabel(\"Size (sq. m)\")\n",
    "plt.ylabel(\"Rental Price (EUR)\")\n",
    "plt.title(\"Rental Price Linear Regression\")  \n",
    "plt.legend(['Prediction Line', 'Actual Example'])\n",
    "plt.show()"
   ]
  },
  {
   "cell_type": "markdown",
   "metadata": {},
   "source": [
    "## Линейна регресия на много променливи"
   ]
  },
  {
   "cell_type": "markdown",
   "metadata": {},
   "source": [
    "Когато искаме да включим повече от една променлива хипотезата придобива следният вид: \n",
    "\n",
    "$$h_\\theta (x) = \\theta_0 + \\theta_1 x_1 + \\theta_2 x_2 + \\theta_3 x_3 + \\cdots + \\theta_n x_n$$\n",
    "\n",
    "В този случай ще се използваме следните означения:\n",
    "\n",
    "$$\\begin{align*}x_j^{(i)} &= \\text{стойността на параметър } j \\text{ в }i^{тия}\\text{ обучаващ пример} \\newline x^{(i)}& = \\text{входящите параметри на }i^{тия}\\text{ обучаващ пример} \\newline m &= \\text{брой обучващи примери} \\newline n &= \\text{брой параметри} \\end{align*}$$\n",
    "\n",
    "Ако използваме умножение на матрици хипотезата може да бъде записана по следният начин:\n",
    "$$\\begin{align*}h_\\theta(x) =\\begin{bmatrix}\\theta_0 \\hspace{2em} \\theta_1 \\hspace{2em} ... \\hspace{2em} \\theta_n\\end{bmatrix}\\begin{bmatrix}x_0 \\newline x_1 \\newline \\vdots \\newline x_n\\end{bmatrix}= \\theta^T x\\end{align*}$$\n",
    "\n",
    "За да може да използваме този запис въвеждаме изкуствен параметър: $x_{0}^{(i)} =1 \\text{ където } i\\in { 1,\\dots, m } $\n",
    "\n",
    "Градиентното спускане за множество входящи параметри ще изглежда така:\n",
    "\n",
    "$$\\begin{align*}& \\text{повтаряй до достигане на минимум:} \\; \\lbrace \\newline \\; & \\theta_j := \\theta_j - \\alpha \\frac{1}{m} \\sum\\limits_{i=1}^{m} (h_\\theta(x^{(i)}) - y^{(i)}) \\cdot x_j^{(i)} \\; & \\text{ където } j \\in {0, \\dots, n}\\newline \\rbrace\\end{align*}$$\n"
   ]
  },
  {
   "cell_type": "markdown",
   "metadata": {},
   "source": [
    "### Нормализация на даните"
   ]
  },
  {
   "cell_type": "markdown",
   "metadata": {},
   "source": [
    "$$x'= \\frac {x - mean(x)}{max(x) - min(x)}$$\n",
    "\n",
    "$$x'= \\frac {x - \\bar{x}}{\\sigma}$$"
   ]
  },
  {
   "cell_type": "code",
   "execution_count": 17,
   "metadata": {
    "scrolled": true
   },
   "outputs": [
    {
     "data": {
      "text/html": [
       "<div>\n",
       "<style scoped>\n",
       "    .dataframe tbody tr th:only-of-type {\n",
       "        vertical-align: middle;\n",
       "    }\n",
       "\n",
       "    .dataframe tbody tr th {\n",
       "        vertical-align: top;\n",
       "    }\n",
       "\n",
       "    .dataframe thead th {\n",
       "        text-align: right;\n",
       "    }\n",
       "</style>\n",
       "<table border=\"1\" class=\"dataframe\">\n",
       "  <thead>\n",
       "    <tr style=\"text-align: right;\">\n",
       "      <th></th>\n",
       "      <th>Size</th>\n",
       "      <th>Floor</th>\n",
       "      <th>Rent</th>\n",
       "    </tr>\n",
       "  </thead>\n",
       "  <tbody>\n",
       "    <tr>\n",
       "      <th>0</th>\n",
       "      <td>-1.354055</td>\n",
       "      <td>-1.262528</td>\n",
       "      <td>-1.284679</td>\n",
       "    </tr>\n",
       "    <tr>\n",
       "      <th>1</th>\n",
       "      <td>-1.051134</td>\n",
       "      <td>-0.360722</td>\n",
       "      <td>-0.715818</td>\n",
       "    </tr>\n",
       "    <tr>\n",
       "      <th>2</th>\n",
       "      <td>-0.627046</td>\n",
       "      <td>0.240481</td>\n",
       "      <td>-0.526197</td>\n",
       "    </tr>\n",
       "    <tr>\n",
       "      <th>3</th>\n",
       "      <td>-0.566462</td>\n",
       "      <td>-0.961926</td>\n",
       "      <td>-0.621007</td>\n",
       "    </tr>\n",
       "    <tr>\n",
       "      <th>4</th>\n",
       "      <td>-0.354417</td>\n",
       "      <td>-0.060120</td>\n",
       "      <td>-0.668412</td>\n",
       "    </tr>\n",
       "  </tbody>\n",
       "</table>\n",
       "</div>"
      ],
      "text/plain": [
       "       Size     Floor      Rent\n",
       "0 -1.354055 -1.262528 -1.284679\n",
       "1 -1.051134 -0.360722 -0.715818\n",
       "2 -0.627046  0.240481 -0.526197\n",
       "3 -0.566462 -0.961926 -0.621007\n",
       "4 -0.354417 -0.060120 -0.668412"
      ]
     },
     "execution_count": 17,
     "metadata": {},
     "output_type": "execute_result"
    }
   ],
   "source": [
    "import os \n",
    "import pandas as pd\n",
    "path = os.getcwd() + '/houseprices1.txt'  \n",
    "data2 = pd.read_csv(path, header=None, names=['Size', 'Floor', 'Rent'])  \n",
    "data2 = (data2 - data2.mean()) / data2.std()\n",
    "data2.head()  "
   ]
  }
 ],
 "metadata": {
  "kernelspec": {
   "display_name": "Python [conda root]",
   "language": "python",
   "name": "conda-root-py"
  },
  "language_info": {
   "codemirror_mode": {
    "name": "ipython",
    "version": 2
   },
   "file_extension": ".py",
   "mimetype": "text/x-python",
   "name": "python",
   "nbconvert_exporter": "python",
   "pygments_lexer": "ipython2",
   "version": "2.7.14"
  }
 },
 "nbformat": 4,
 "nbformat_minor": 2
}
